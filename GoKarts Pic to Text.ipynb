{
 "cells": [
  {
   "cell_type": "code",
   "execution_count": 6,
   "metadata": {},
   "outputs": [],
   "source": [
    "from sklearn.cluster import AgglomerativeClustering\n",
    "from pytesseract import Output\n",
    "from tabulate import tabulate\n",
    "import pandas as pd\n",
    "import numpy as np\n",
    "import pytesseract\n",
    "import argparse\n",
    "import imutils\n",
    "import cv2"
   ]
  },
  {
   "cell_type": "code",
   "execution_count": 2,
   "metadata": {},
   "outputs": [],
   "source": [
    "# # construct the argument parser and parse the arguments\n",
    "# ap = argparse.ArgumentParser()\n",
    "# ap.add_argument(\"-i\", \"--image\", required=True,\n",
    "# \thelp=\"path to input image to be OCR'd\")\n",
    "# ap.add_argument(\"-o\", \"--output\", required=True,\n",
    "# \thelp=\"path to output CSV file\")\n",
    "# ap.add_argument(\"-c\", \"--min-conf\", type=int, default=0,\n",
    "# \thelp=\"minimum confidence value to filter weak text detection\")\n",
    "# ap.add_argument(\"-d\", \"--dist-thresh\", type=float, default=25.0,\n",
    "# \thelp=\"distance threshold cutoff for clustering\")\n",
    "# ap.add_argument(\"-s\", \"--min-size\", type=int, default=2,\n",
    "# \thelp=\"minimum cluster size (i.e., # of entries in column)\")\n",
    "# args = vars(ap.parse_args())"
   ]
  },
  {
   "cell_type": "code",
   "execution_count": 3,
   "metadata": {},
   "outputs": [],
   "source": [
    "# set a seed for our random number generator\n",
    "np.random.seed(42)\n",
    "# load the input image and convert it to grayscale\n",
    "image = cv2.imread('raw data\\IMG_3153.JPG')\n",
    "gray = cv2.cvtColor(image, cv2.COLOR_BGR2GRAY)"
   ]
  },
  {
   "cell_type": "code",
   "execution_count": 4,
   "metadata": {},
   "outputs": [],
   "source": [
    "# initialize a rectangular kernel that is ~5x wider than it is tall,\n",
    "# then smooth the image using a 3x3 Gaussian blur and then apply a\n",
    "# blackhat morphological operator to find dark regions on a light\n",
    "# background\n",
    "kernel = cv2.getStructuringElement(cv2.MORPH_RECT, (51, 11))\n",
    "gray = cv2.GaussianBlur(gray, (3, 3), 0)\n",
    "blackhat = cv2.morphologyEx(gray, cv2.MORPH_BLACKHAT, kernel)\n",
    "# compute the Scharr gradient of the blackhat image and scale the\n",
    "# result into the range [0, 255]\n",
    "grad = cv2.Sobel(blackhat, ddepth=cv2.CV_32F, dx=1, dy=0, ksize=-1)\n",
    "grad = np.absolute(grad)\n",
    "(minVal, maxVal) = (np.min(grad), np.max(grad))\n",
    "grad = (grad - minVal) / (maxVal - minVal)\n",
    "grad = (grad * 255).astype(\"uint8\")\n",
    "# apply a closing operation using the rectangular kernel to close\n",
    "# gaps in between characters, apply Otsu's thresholding method, and\n",
    "# finally a dilation operation to enlarge foreground regions\n",
    "grad = cv2.morphologyEx(grad, cv2.MORPH_CLOSE, kernel)\n",
    "thresh = cv2.threshold(grad, 0, 255,\n",
    "\tcv2.THRESH_BINARY | cv2.THRESH_OTSU)[1]\n",
    "thresh = cv2.dilate(thresh, None, iterations=3)\n",
    "cv2.imshow(\"Thresh\", thresh)\n",
    "cv2.waitKey(0)\n",
    "cv2.destroyAllWindows()"
   ]
  },
  {
   "cell_type": "code",
   "execution_count": 5,
   "metadata": {},
   "outputs": [],
   "source": [
    "# find contours in the thresholded image and grab the largest one,\n",
    "# which we will assume is the stats table\n",
    "cnts = cv2.findContours(thresh.copy(), cv2.RETR_EXTERNAL,\n",
    "\tcv2.CHAIN_APPROX_SIMPLE)\n",
    "cnts = imutils.grab_contours(cnts)\n",
    "tableCnt = max(cnts, key=cv2.contourArea)\n",
    "# compute the bounding box coordinates of the stats table and extract\n",
    "# the table from the input image\n",
    "(x, y, w, h) = cv2.boundingRect(tableCnt)\n",
    "table = image[y:y + h, x:x + w]\n",
    "# show the original input image and extracted table to our screen\n",
    "cv2.imshow(\"Input\", image)\n",
    "cv2.imshow(\"Table\", table)\n",
    "cv2.waitKey(0)\n",
    "cv2.destroyAllWindows()"
   ]
  },
  {
   "cell_type": "code",
   "execution_count": 11,
   "metadata": {},
   "outputs": [
    {
     "data": {
      "text/plain": [
       "array([[[230, 232, 232],\n",
       "        [230, 232, 232],\n",
       "        [228, 233, 232],\n",
       "        ...,\n",
       "        [219, 225, 220],\n",
       "        [228, 234, 229],\n",
       "        [234, 240, 235]],\n",
       "\n",
       "       [[230, 232, 232],\n",
       "        [230, 232, 232],\n",
       "        [228, 233, 232],\n",
       "        ...,\n",
       "        [231, 237, 232],\n",
       "        [233, 239, 234],\n",
       "        [229, 235, 230]],\n",
       "\n",
       "       [[230, 232, 232],\n",
       "        [230, 232, 232],\n",
       "        [228, 233, 232],\n",
       "        ...,\n",
       "        [233, 238, 236],\n",
       "        [233, 238, 236],\n",
       "        [228, 233, 231]],\n",
       "\n",
       "       ...,\n",
       "\n",
       "       [[205, 207, 207],\n",
       "        [205, 207, 207],\n",
       "        [205, 207, 207],\n",
       "        ...,\n",
       "        [197, 203, 202],\n",
       "        [196, 202, 201],\n",
       "        [195, 201, 200]],\n",
       "\n",
       "       [[205, 207, 207],\n",
       "        [205, 207, 207],\n",
       "        [205, 207, 207],\n",
       "        ...,\n",
       "        [195, 201, 200],\n",
       "        [196, 202, 201],\n",
       "        [198, 204, 203]],\n",
       "\n",
       "       [[205, 207, 207],\n",
       "        [205, 207, 207],\n",
       "        [205, 207, 207],\n",
       "        ...,\n",
       "        [193, 199, 198],\n",
       "        [197, 203, 202],\n",
       "        [201, 207, 206]]], dtype=uint8)"
      ]
     },
     "execution_count": 11,
     "metadata": {},
     "output_type": "execute_result"
    },
    {
     "ename": "",
     "evalue": "",
     "output_type": "error",
     "traceback": [
      "\u001b[1;31mThe Kernel crashed while executing code in the the current cell or a previous cell. Please review the code in the cell(s) to identify a possible cause of the failure. Click <a href='https://aka.ms/vscodeJupyterKernelCrash'>here</a> for more info. View Jupyter <a href='command:jupyter.viewOutput'>log</a> for further details."
     ]
    }
   ],
   "source": [
    "table"
   ]
  },
  {
   "cell_type": "code",
   "execution_count": null,
   "metadata": {},
   "outputs": [],
   "source": []
  }
 ],
 "metadata": {
  "interpreter": {
   "hash": "22d8fdf0a1c4de26b9778f22a1114952af470636938eef25d5e2822bfd800566"
  },
  "kernelspec": {
   "display_name": "Python 3.8.8 ('base')",
   "language": "python",
   "name": "python3"
  },
  "language_info": {
   "codemirror_mode": {
    "name": "ipython",
    "version": 3
   },
   "file_extension": ".py",
   "mimetype": "text/x-python",
   "name": "python",
   "nbconvert_exporter": "python",
   "pygments_lexer": "ipython3",
   "version": "3.8.8"
  },
  "orig_nbformat": 4
 },
 "nbformat": 4,
 "nbformat_minor": 2
}
